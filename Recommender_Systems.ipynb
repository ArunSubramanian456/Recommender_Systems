{
 "cells": [
  {
   "cell_type": "markdown",
   "id": "c004bf50-ff32-49b2-9155-859f7e442bd6",
   "metadata": {},
   "source": [
    "## Recommender Systems"
   ]
  },
  {
   "cell_type": "markdown",
   "id": "41115251-8010-4ee9-96c7-a5eb183486d5",
   "metadata": {},
   "source": [
    "### [TABLE OF CONTENTS](#toc)\n",
    "\n",
    "#### [1. Install Requirements](#install)\n",
    "\n",
    "#### [2. Import Libraries](#import)\n",
    "\n",
    "#### [3. Content Based Filtering](#cbf)\n",
    "\n",
    "#### [4. Memory Based Collaborative Filtering](#cf1)\n",
    ">#### [4.1. User based collaborative filtering](#ubcf)\n",
    ">#### [4.2. Item based collaborative filtering](#ibcf)\n",
    "\n",
    "#### [5. Model Based Collaborative Filtering](#cf2)\n",
    ">#### [5.1. Singular Value Decomposition](#svd)\n",
    "\n",
    "#### [6. Results Comparision](#results)\n"
   ]
  },
  {
   "cell_type": "markdown",
   "id": "10a7a334-75c5-4790-b7b2-b58e5bbc62a5",
   "metadata": {},
   "source": [
    "<a id='install'></a>\n",
    "\n",
    "#### 1. Install requirements"
   ]
  },
  {
   "cell_type": "code",
   "execution_count": 1,
   "id": "c13ff7d7-93c2-4ed1-a623-feb0dbcbc879",
   "metadata": {
    "scrolled": true
   },
   "outputs": [
    {
     "name": "stdout",
     "output_type": "stream",
     "text": [
      "Requirement already satisfied: Flask==3.0.3 in c:\\users\\aruns\\appdata\\roaming\\python\\python312\\site-packages (from -r requirements.txt (line 1)) (3.0.3)\n",
      "Requirement already satisfied: gunicorn==23.0.0 in c:\\users\\aruns\\appdata\\roaming\\python\\python312\\site-packages (from -r requirements.txt (line 2)) (23.0.0)\n",
      "Requirement already satisfied: Jinja2==3.1.4 in c:\\users\\aruns\\appdata\\roaming\\python\\python312\\site-packages (from -r requirements.txt (line 3)) (3.1.4)\n",
      "Requirement already satisfied: MarkupSafe==2.1.3 in c:\\users\\aruns\\appdata\\roaming\\python\\python312\\site-packages (from -r requirements.txt (line 4)) (2.1.3)\n",
      "Requirement already satisfied: Werkzeug==3.0.3 in c:\\users\\aruns\\appdata\\roaming\\python\\python312\\site-packages (from -r requirements.txt (line 5)) (3.0.3)\n",
      "Requirement already satisfied: numpy==1.26.4 in c:\\users\\aruns\\appdata\\roaming\\python\\python312\\site-packages (from -r requirements.txt (line 6)) (1.26.4)\n",
      "Requirement already satisfied: scipy==1.13.1 in c:\\users\\aruns\\appdata\\roaming\\python\\python312\\site-packages (from -r requirements.txt (line 7)) (1.13.1)\n",
      "Requirement already satisfied: nltk==3.8.1 in c:\\users\\aruns\\appdata\\roaming\\python\\python312\\site-packages (from -r requirements.txt (line 8)) (3.8.1)\n",
      "Requirement already satisfied: scikit-learn==1.4.2 in c:\\users\\aruns\\appdata\\roaming\\python\\python312\\site-packages (from -r requirements.txt (line 9)) (1.4.2)\n",
      "Requirement already satisfied: pandas==2.2.2 in c:\\users\\aruns\\appdata\\roaming\\python\\python312\\site-packages (from -r requirements.txt (line 10)) (2.2.2)\n",
      "Requirement already satisfied: beautifulsoup4==4.9.1 in c:\\users\\aruns\\appdata\\roaming\\python\\python312\\site-packages (from -r requirements.txt (line 11)) (4.9.1)\n",
      "Requirement already satisfied: jsonschema==4.19.2 in c:\\users\\aruns\\appdata\\roaming\\python\\python312\\site-packages (from -r requirements.txt (line 12)) (4.19.2)\n",
      "Requirement already satisfied: tmdbv3api==1.9.0 in c:\\users\\aruns\\appdata\\roaming\\python\\python312\\site-packages (from -r requirements.txt (line 13)) (1.9.0)\n",
      "Requirement already satisfied: lxml==5.3.0 in c:\\users\\aruns\\appdata\\roaming\\python\\python312\\site-packages (from -r requirements.txt (line 14)) (5.3.0)\n",
      "Requirement already satisfied: urllib3 in c:\\users\\aruns\\appdata\\roaming\\python\\python312\\site-packages (from -r requirements.txt (line 15)) (2.2.3)\n",
      "Requirement already satisfied: requests==2.32.2 in c:\\users\\aruns\\appdata\\roaming\\python\\python312\\site-packages (from -r requirements.txt (line 16)) (2.32.2)\n",
      "Requirement already satisfied: pickleshare==0.7.5 in c:\\users\\aruns\\appdata\\roaming\\python\\python312\\site-packages (from -r requirements.txt (line 17)) (0.7.5)\n",
      "Requirement already satisfied: scikit-surprise==1.1.4 in c:\\users\\aruns\\anaconda3\\lib\\site-packages (from -r requirements.txt (line 18)) (1.1.4)\n",
      "Requirement already satisfied: itsdangerous>=2.1.2 in c:\\users\\aruns\\appdata\\roaming\\python\\python312\\site-packages (from Flask==3.0.3->-r requirements.txt (line 1)) (2.2.0)\n",
      "Requirement already satisfied: click>=8.1.3 in c:\\users\\aruns\\appdata\\roaming\\python\\python312\\site-packages (from Flask==3.0.3->-r requirements.txt (line 1)) (8.1.7)\n",
      "Requirement already satisfied: blinker>=1.6.2 in c:\\users\\aruns\\appdata\\roaming\\python\\python312\\site-packages (from Flask==3.0.3->-r requirements.txt (line 1)) (1.8.2)\n",
      "Requirement already satisfied: packaging in c:\\users\\aruns\\appdata\\roaming\\python\\python312\\site-packages (from gunicorn==23.0.0->-r requirements.txt (line 2)) (24.1)\n",
      "Requirement already satisfied: joblib in c:\\users\\aruns\\appdata\\roaming\\python\\python312\\site-packages (from nltk==3.8.1->-r requirements.txt (line 8)) (1.4.2)\n",
      "Requirement already satisfied: regex>=2021.8.3 in c:\\users\\aruns\\appdata\\roaming\\python\\python312\\site-packages (from nltk==3.8.1->-r requirements.txt (line 8)) (2024.9.11)\n",
      "Requirement already satisfied: tqdm in c:\\users\\aruns\\appdata\\roaming\\python\\python312\\site-packages (from nltk==3.8.1->-r requirements.txt (line 8)) (4.66.5)\n",
      "Requirement already satisfied: threadpoolctl>=2.0.0 in c:\\users\\aruns\\appdata\\roaming\\python\\python312\\site-packages (from scikit-learn==1.4.2->-r requirements.txt (line 9)) (3.5.0)\n",
      "Requirement already satisfied: python-dateutil>=2.8.2 in c:\\users\\aruns\\appdata\\roaming\\python\\python312\\site-packages (from pandas==2.2.2->-r requirements.txt (line 10)) (2.9.0.post0)\n",
      "Requirement already satisfied: pytz>=2020.1 in c:\\users\\aruns\\appdata\\roaming\\python\\python312\\site-packages (from pandas==2.2.2->-r requirements.txt (line 10)) (2024.2)\n",
      "Requirement already satisfied: tzdata>=2022.7 in c:\\users\\aruns\\appdata\\roaming\\python\\python312\\site-packages (from pandas==2.2.2->-r requirements.txt (line 10)) (2024.2)\n",
      "Requirement already satisfied: soupsieve>1.2 in c:\\users\\aruns\\appdata\\roaming\\python\\python312\\site-packages (from beautifulsoup4==4.9.1->-r requirements.txt (line 11)) (2.6)\n",
      "Requirement already satisfied: attrs>=22.2.0 in c:\\users\\aruns\\appdata\\roaming\\python\\python312\\site-packages (from jsonschema==4.19.2->-r requirements.txt (line 12)) (24.2.0)\n",
      "Requirement already satisfied: jsonschema-specifications>=2023.03.6 in c:\\users\\aruns\\appdata\\roaming\\python\\python312\\site-packages (from jsonschema==4.19.2->-r requirements.txt (line 12)) (2024.10.1)\n",
      "Requirement already satisfied: referencing>=0.28.4 in c:\\users\\aruns\\appdata\\roaming\\python\\python312\\site-packages (from jsonschema==4.19.2->-r requirements.txt (line 12)) (0.35.1)\n",
      "Requirement already satisfied: rpds-py>=0.7.1 in c:\\users\\aruns\\appdata\\roaming\\python\\python312\\site-packages (from jsonschema==4.19.2->-r requirements.txt (line 12)) (0.20.0)\n",
      "Requirement already satisfied: charset-normalizer<4,>=2 in c:\\users\\aruns\\appdata\\roaming\\python\\python312\\site-packages (from requests==2.32.2->-r requirements.txt (line 16)) (3.4.0)\n",
      "Requirement already satisfied: idna<4,>=2.5 in c:\\users\\aruns\\appdata\\roaming\\python\\python312\\site-packages (from requests==2.32.2->-r requirements.txt (line 16)) (3.10)\n",
      "Requirement already satisfied: certifi>=2017.4.17 in c:\\users\\aruns\\appdata\\roaming\\python\\python312\\site-packages (from requests==2.32.2->-r requirements.txt (line 16)) (2024.8.30)\n",
      "Requirement already satisfied: colorama in c:\\users\\aruns\\appdata\\roaming\\python\\python312\\site-packages (from click>=8.1.3->Flask==3.0.3->-r requirements.txt (line 1)) (0.4.6)\n",
      "Requirement already satisfied: six>=1.5 in c:\\users\\aruns\\appdata\\roaming\\python\\python312\\site-packages (from python-dateutil>=2.8.2->pandas==2.2.2->-r requirements.txt (line 10)) (1.16.0)\n"
     ]
    }
   ],
   "source": [
    "!pip install -r requirements.txt"
   ]
  },
  {
   "cell_type": "markdown",
   "id": "3e226859-c27a-4546-ac16-632375886273",
   "metadata": {},
   "source": [
    "<a id='import'></a>\n",
    "\n",
    "#### 2. Import Libraries"
   ]
  },
  {
   "cell_type": "code",
   "execution_count": 481,
   "id": "296ac72f-83b5-455c-bae6-f0082390cca0",
   "metadata": {},
   "outputs": [],
   "source": [
    "import numpy as np\n",
    "import pandas as pd\n",
    "import random\n",
    "import numpy as np\n",
    "import matplotlib.pyplot as plt\n",
    "import seaborn as sns\n",
    "\n",
    "import csv\n",
    "import re\n",
    "\n",
    "import math\n",
    "import heapq\n",
    "from collections import defaultdict\n",
    "from sklearn.feature_extraction.text import TfidfVectorizer\n",
    "from sklearn.feature_extraction.text import CountVectorizer\n",
    "from sklearn.metrics.pairwise import cosine_similarity\n",
    "from surprise import AlgoBase\n",
    "from surprise import accuracy\n",
    "from surprise import Dataset\n",
    "from surprise import Reader\n",
    "from surprise import KNNBasic, SVD\n",
    "from scipy.linalg import svd\n",
    "\n",
    "from surprise.model_selection import train_test_split\n",
    "from surprise.model_selection import GridSearchCV"
   ]
  },
  {
   "cell_type": "markdown",
   "id": "54e23e63-3df5-4aa7-9f17-b8d7f153c496",
   "metadata": {},
   "source": [
    "<a id='cbf'></a>\n",
    "\n",
    "#### 3. Content Based Filtering"
   ]
  },
  {
   "cell_type": "code",
   "execution_count": 11,
   "id": "74ee020a-b8cc-4b9e-959a-5c2bedf27eb1",
   "metadata": {},
   "outputs": [],
   "source": [
    "df_movie = pd.read_csv('./data/movies.csv')"
   ]
  },
  {
   "cell_type": "code",
   "execution_count": 12,
   "id": "86c9861f-1f29-44f8-8f46-d6a64677d6e9",
   "metadata": {},
   "outputs": [
    {
     "data": {
      "text/html": [
       "<div>\n",
       "<style scoped>\n",
       "    .dataframe tbody tr th:only-of-type {\n",
       "        vertical-align: middle;\n",
       "    }\n",
       "\n",
       "    .dataframe tbody tr th {\n",
       "        vertical-align: top;\n",
       "    }\n",
       "\n",
       "    .dataframe thead th {\n",
       "        text-align: right;\n",
       "    }\n",
       "</style>\n",
       "<table border=\"1\" class=\"dataframe\">\n",
       "  <thead>\n",
       "    <tr style=\"text-align: right;\">\n",
       "      <th></th>\n",
       "      <th>movieId</th>\n",
       "      <th>title</th>\n",
       "      <th>genres</th>\n",
       "    </tr>\n",
       "  </thead>\n",
       "  <tbody>\n",
       "    <tr>\n",
       "      <th>0</th>\n",
       "      <td>1</td>\n",
       "      <td>Toy Story (1995)</td>\n",
       "      <td>Adventure|Animation|Children|Comedy|Fantasy</td>\n",
       "    </tr>\n",
       "    <tr>\n",
       "      <th>1</th>\n",
       "      <td>2</td>\n",
       "      <td>Jumanji (1995)</td>\n",
       "      <td>Adventure|Children|Fantasy</td>\n",
       "    </tr>\n",
       "    <tr>\n",
       "      <th>2</th>\n",
       "      <td>3</td>\n",
       "      <td>Grumpier Old Men (1995)</td>\n",
       "      <td>Comedy|Romance</td>\n",
       "    </tr>\n",
       "    <tr>\n",
       "      <th>3</th>\n",
       "      <td>4</td>\n",
       "      <td>Waiting to Exhale (1995)</td>\n",
       "      <td>Comedy|Drama|Romance</td>\n",
       "    </tr>\n",
       "    <tr>\n",
       "      <th>4</th>\n",
       "      <td>5</td>\n",
       "      <td>Father of the Bride Part II (1995)</td>\n",
       "      <td>Comedy</td>\n",
       "    </tr>\n",
       "  </tbody>\n",
       "</table>\n",
       "</div>"
      ],
      "text/plain": [
       "   movieId                               title  \\\n",
       "0        1                    Toy Story (1995)   \n",
       "1        2                      Jumanji (1995)   \n",
       "2        3             Grumpier Old Men (1995)   \n",
       "3        4            Waiting to Exhale (1995)   \n",
       "4        5  Father of the Bride Part II (1995)   \n",
       "\n",
       "                                        genres  \n",
       "0  Adventure|Animation|Children|Comedy|Fantasy  \n",
       "1                   Adventure|Children|Fantasy  \n",
       "2                               Comedy|Romance  \n",
       "3                         Comedy|Drama|Romance  \n",
       "4                                       Comedy  "
      ]
     },
     "execution_count": 12,
     "metadata": {},
     "output_type": "execute_result"
    }
   ],
   "source": [
    "df_movie.head()"
   ]
  },
  {
   "cell_type": "code",
   "execution_count": 13,
   "id": "c65522ca-51a1-4fa1-84f0-712215b336ad",
   "metadata": {},
   "outputs": [],
   "source": [
    "df_movie['year'] = df_movie['title'].str.extract(r'\\((\\d{4})\\)')\n",
    "df_movie['title'] = df_movie['title'].apply(lambda x : x[:len(x)-7]).str.lower()"
   ]
  },
  {
   "cell_type": "code",
   "execution_count": 14,
   "id": "591e2023-762d-4ab3-9b88-d92e1b390ce0",
   "metadata": {},
   "outputs": [
    {
     "data": {
      "text/plain": [
       "array(['1995', '1994', '1996', '1976', '1992', '1967', '1993', '1964',\n",
       "       '1977', '1965', '1982', '1990', '1991', '1989', '1937', '1940',\n",
       "       '1969', '1981', '1973', '1970', '1960', '1955', '1959', '1968',\n",
       "       '1988', '1948', '1950', '1997', '1956', '1958', '1972', '1943',\n",
       "       '1952', '1951', '1957', '1961', '1954', '1934', '1944', '1963',\n",
       "       '1942', '1941', '1953', '1939', '1946', '1945', '1938', '1947',\n",
       "       '1935', '1936', '1926', '1949', '1932', '1985', '1975', '1974',\n",
       "       '1971', '1979', '1987', '1986', '1980', '1978', '1966', '1962',\n",
       "       '1983', '1984', '1933', '1931', '1922', '1998', '1927', '1929',\n",
       "       '1930', '1928', '1999', '2000', '1925', '1923', '1918', '1921',\n",
       "       '2001', '1924', '2002', '2003', '1920', '1915', '2004', '1916',\n",
       "       '1917', '2005', '2006', '1902', '2007', '2008', '2009', '1919',\n",
       "       '2010', '2011', '2012', '2013', '2014', nan, '2015', '2016'],\n",
       "      dtype=object)"
      ]
     },
     "execution_count": 14,
     "metadata": {},
     "output_type": "execute_result"
    }
   ],
   "source": [
    "df_movie.year.unique()"
   ]
  },
  {
   "cell_type": "code",
   "execution_count": 15,
   "id": "df6aabab-543f-489b-b775-0c62282bfcab",
   "metadata": {},
   "outputs": [],
   "source": [
    "df_movie['genres'] = df_movie.genres.apply(lambda x: ' '.join(x.split('|')))"
   ]
  },
  {
   "cell_type": "code",
   "execution_count": 16,
   "id": "4083e7b7-4583-4b54-89a9-54f4ed03ee5b",
   "metadata": {},
   "outputs": [
    {
     "data": {
      "text/html": [
       "<div>\n",
       "<style scoped>\n",
       "    .dataframe tbody tr th:only-of-type {\n",
       "        vertical-align: middle;\n",
       "    }\n",
       "\n",
       "    .dataframe tbody tr th {\n",
       "        vertical-align: top;\n",
       "    }\n",
       "\n",
       "    .dataframe thead th {\n",
       "        text-align: right;\n",
       "    }\n",
       "</style>\n",
       "<table border=\"1\" class=\"dataframe\">\n",
       "  <thead>\n",
       "    <tr style=\"text-align: right;\">\n",
       "      <th></th>\n",
       "      <th>movieId</th>\n",
       "      <th>title</th>\n",
       "      <th>genres</th>\n",
       "      <th>year</th>\n",
       "    </tr>\n",
       "  </thead>\n",
       "  <tbody>\n",
       "    <tr>\n",
       "      <th>0</th>\n",
       "      <td>1</td>\n",
       "      <td>toy story</td>\n",
       "      <td>Adventure Animation Children Comedy Fantasy</td>\n",
       "      <td>1995</td>\n",
       "    </tr>\n",
       "    <tr>\n",
       "      <th>1</th>\n",
       "      <td>2</td>\n",
       "      <td>jumanji</td>\n",
       "      <td>Adventure Children Fantasy</td>\n",
       "      <td>1995</td>\n",
       "    </tr>\n",
       "    <tr>\n",
       "      <th>2</th>\n",
       "      <td>3</td>\n",
       "      <td>grumpier old men</td>\n",
       "      <td>Comedy Romance</td>\n",
       "      <td>1995</td>\n",
       "    </tr>\n",
       "    <tr>\n",
       "      <th>3</th>\n",
       "      <td>4</td>\n",
       "      <td>waiting to exhale</td>\n",
       "      <td>Comedy Drama Romance</td>\n",
       "      <td>1995</td>\n",
       "    </tr>\n",
       "    <tr>\n",
       "      <th>4</th>\n",
       "      <td>5</td>\n",
       "      <td>father of the bride part ii</td>\n",
       "      <td>Comedy</td>\n",
       "      <td>1995</td>\n",
       "    </tr>\n",
       "  </tbody>\n",
       "</table>\n",
       "</div>"
      ],
      "text/plain": [
       "   movieId                        title  \\\n",
       "0        1                    toy story   \n",
       "1        2                      jumanji   \n",
       "2        3             grumpier old men   \n",
       "3        4            waiting to exhale   \n",
       "4        5  father of the bride part ii   \n",
       "\n",
       "                                        genres  year  \n",
       "0  Adventure Animation Children Comedy Fantasy  1995  \n",
       "1                   Adventure Children Fantasy  1995  \n",
       "2                               Comedy Romance  1995  \n",
       "3                         Comedy Drama Romance  1995  \n",
       "4                                       Comedy  1995  "
      ]
     },
     "execution_count": 16,
     "metadata": {},
     "output_type": "execute_result"
    }
   ],
   "source": [
    "df_movie.head()"
   ]
  },
  {
   "cell_type": "code",
   "execution_count": 17,
   "id": "55668b6b-6899-4087-896e-18ce2fdf4b5a",
   "metadata": {},
   "outputs": [
    {
     "name": "stdout",
     "output_type": "stream",
     "text": [
      "<class 'pandas.core.frame.DataFrame'>\n",
      "RangeIndex: 9125 entries, 0 to 9124\n",
      "Data columns (total 4 columns):\n",
      " #   Column   Non-Null Count  Dtype \n",
      "---  ------   --------------  ----- \n",
      " 0   movieId  9125 non-null   int64 \n",
      " 1   title    9125 non-null   object\n",
      " 2   genres   9125 non-null   object\n",
      " 3   year     9119 non-null   object\n",
      "dtypes: int64(1), object(3)\n",
      "memory usage: 285.3+ KB\n"
     ]
    }
   ],
   "source": [
    "df_movie.info()"
   ]
  },
  {
   "cell_type": "code",
   "execution_count": 18,
   "id": "59e20ff5-0e10-4566-a871-b6723785f834",
   "metadata": {},
   "outputs": [
    {
     "data": {
      "text/html": [
       "<div>\n",
       "<style scoped>\n",
       "    .dataframe tbody tr th:only-of-type {\n",
       "        vertical-align: middle;\n",
       "    }\n",
       "\n",
       "    .dataframe tbody tr th {\n",
       "        vertical-align: top;\n",
       "    }\n",
       "\n",
       "    .dataframe thead th {\n",
       "        text-align: right;\n",
       "    }\n",
       "</style>\n",
       "<table border=\"1\" class=\"dataframe\">\n",
       "  <thead>\n",
       "    <tr style=\"text-align: right;\">\n",
       "      <th></th>\n",
       "      <th>movieId</th>\n",
       "      <th>title</th>\n",
       "      <th>genres</th>\n",
       "      <th>year</th>\n",
       "    </tr>\n",
       "  </thead>\n",
       "  <tbody>\n",
       "    <tr>\n",
       "      <th>8505</th>\n",
       "      <td>108548</td>\n",
       "      <td>big bang theory, the</td>\n",
       "      <td>Comedy</td>\n",
       "      <td>NaN</td>\n",
       "    </tr>\n",
       "    <tr>\n",
       "      <th>8507</th>\n",
       "      <td>108583</td>\n",
       "      <td>fawlty towers (197</td>\n",
       "      <td>Comedy</td>\n",
       "      <td>NaN</td>\n",
       "    </tr>\n",
       "    <tr>\n",
       "      <th>9017</th>\n",
       "      <td>143410</td>\n",
       "      <td>hye</td>\n",
       "      <td>(no genres listed)</td>\n",
       "      <td>NaN</td>\n",
       "    </tr>\n",
       "    <tr>\n",
       "      <th>9063</th>\n",
       "      <td>151307</td>\n",
       "      <td>the lovers and the</td>\n",
       "      <td>(no genres listed)</td>\n",
       "      <td>NaN</td>\n",
       "    </tr>\n",
       "    <tr>\n",
       "      <th>9118</th>\n",
       "      <td>162376</td>\n",
       "      <td>stranger</td>\n",
       "      <td>Drama</td>\n",
       "      <td>NaN</td>\n",
       "    </tr>\n",
       "    <tr>\n",
       "      <th>9124</th>\n",
       "      <td>164979</td>\n",
       "      <td>women of '69,</td>\n",
       "      <td>Documentary</td>\n",
       "      <td>NaN</td>\n",
       "    </tr>\n",
       "  </tbody>\n",
       "</table>\n",
       "</div>"
      ],
      "text/plain": [
       "      movieId                  title              genres year\n",
       "8505   108548  big bang theory, the               Comedy  NaN\n",
       "8507   108583     fawlty towers (197              Comedy  NaN\n",
       "9017   143410                    hye  (no genres listed)  NaN\n",
       "9063   151307     the lovers and the  (no genres listed)  NaN\n",
       "9118   162376               stranger               Drama  NaN\n",
       "9124   164979         women of '69,          Documentary  NaN"
      ]
     },
     "execution_count": 18,
     "metadata": {},
     "output_type": "execute_result"
    }
   ],
   "source": [
    "df_movie[df_movie.year.isnull()]"
   ]
  },
  {
   "cell_type": "code",
   "execution_count": 19,
   "id": "15ac491e-f5f0-4e2d-8d59-76d441a862b1",
   "metadata": {},
   "outputs": [],
   "source": [
    "df_movie = df_movie[~(df_movie.year.isnull())]"
   ]
  },
  {
   "cell_type": "code",
   "execution_count": 20,
   "id": "14daeba8-d3cd-4e8d-b8b2-68e8d924f24a",
   "metadata": {},
   "outputs": [
    {
     "data": {
      "text/plain": [
       "movieId    0\n",
       "title      0\n",
       "genres     0\n",
       "year       0\n",
       "dtype: int64"
      ]
     },
     "execution_count": 20,
     "metadata": {},
     "output_type": "execute_result"
    }
   ],
   "source": [
    "df_movie.isnull().sum()"
   ]
  },
  {
   "cell_type": "code",
   "execution_count": 21,
   "id": "21824a56-f840-46c5-b39a-83cf593ee6a2",
   "metadata": {},
   "outputs": [],
   "source": [
    "df_movie['key'] = df_movie['genres'] + ' ' + df_movie['year']"
   ]
  },
  {
   "cell_type": "code",
   "execution_count": 22,
   "id": "6aa0e554-0a73-4f94-a127-bcb066fa02a2",
   "metadata": {},
   "outputs": [
    {
     "data": {
      "text/html": [
       "<div>\n",
       "<style scoped>\n",
       "    .dataframe tbody tr th:only-of-type {\n",
       "        vertical-align: middle;\n",
       "    }\n",
       "\n",
       "    .dataframe tbody tr th {\n",
       "        vertical-align: top;\n",
       "    }\n",
       "\n",
       "    .dataframe thead th {\n",
       "        text-align: right;\n",
       "    }\n",
       "</style>\n",
       "<table border=\"1\" class=\"dataframe\">\n",
       "  <thead>\n",
       "    <tr style=\"text-align: right;\">\n",
       "      <th></th>\n",
       "      <th>movieId</th>\n",
       "      <th>title</th>\n",
       "      <th>genres</th>\n",
       "      <th>year</th>\n",
       "      <th>key</th>\n",
       "    </tr>\n",
       "  </thead>\n",
       "  <tbody>\n",
       "    <tr>\n",
       "      <th>8784</th>\n",
       "      <td>122888</td>\n",
       "      <td>ben-hur</td>\n",
       "      <td>(no genres listed)</td>\n",
       "      <td>2016</td>\n",
       "      <td>(no genres listed) 2016</td>\n",
       "    </tr>\n",
       "    <tr>\n",
       "      <th>8785</th>\n",
       "      <td>122890</td>\n",
       "      <td>warcraft</td>\n",
       "      <td>Action Adventure Fantasy</td>\n",
       "      <td>2016</td>\n",
       "      <td>Action Adventure Fantasy 2016</td>\n",
       "    </tr>\n",
       "    <tr>\n",
       "      <th>8789</th>\n",
       "      <td>122904</td>\n",
       "      <td>deadpool</td>\n",
       "      <td>Action Adventure Comedy Sci-Fi</td>\n",
       "      <td>2016</td>\n",
       "      <td>Action Adventure Comedy Sci-Fi 2016</td>\n",
       "    </tr>\n",
       "    <tr>\n",
       "      <th>8790</th>\n",
       "      <td>122920</td>\n",
       "      <td>captain america: civil war</td>\n",
       "      <td>Action Sci-Fi Thriller</td>\n",
       "      <td>2016</td>\n",
       "      <td>Action Sci-Fi Thriller 2016</td>\n",
       "    </tr>\n",
       "    <tr>\n",
       "      <th>8791</th>\n",
       "      <td>122924</td>\n",
       "      <td>x-men: apocalypse</td>\n",
       "      <td>Action Adventure Fantasy Sci-Fi</td>\n",
       "      <td>2016</td>\n",
       "      <td>Action Adventure Fantasy Sci-Fi 2016</td>\n",
       "    </tr>\n",
       "  </tbody>\n",
       "</table>\n",
       "</div>"
      ],
      "text/plain": [
       "      movieId                       title                           genres  \\\n",
       "8784   122888                     ben-hur               (no genres listed)   \n",
       "8785   122890                    warcraft         Action Adventure Fantasy   \n",
       "8789   122904                    deadpool   Action Adventure Comedy Sci-Fi   \n",
       "8790   122920  captain america: civil war           Action Sci-Fi Thriller   \n",
       "8791   122924           x-men: apocalypse  Action Adventure Fantasy Sci-Fi   \n",
       "\n",
       "      year                                   key  \n",
       "8784  2016               (no genres listed) 2016  \n",
       "8785  2016         Action Adventure Fantasy 2016  \n",
       "8789  2016   Action Adventure Comedy Sci-Fi 2016  \n",
       "8790  2016           Action Sci-Fi Thriller 2016  \n",
       "8791  2016  Action Adventure Fantasy Sci-Fi 2016  "
      ]
     },
     "execution_count": 22,
     "metadata": {},
     "output_type": "execute_result"
    }
   ],
   "source": [
    "df_movie[df_movie.year == '2016'].head()"
   ]
  },
  {
   "cell_type": "code",
   "execution_count": 26,
   "id": "1347dd11-81fb-4dd8-a238-0fefac274a75",
   "metadata": {},
   "outputs": [],
   "source": [
    "cv = CountVectorizer(stop_words = 'english')"
   ]
  },
  {
   "cell_type": "code",
   "execution_count": 27,
   "id": "506a2620-5b8e-43e7-8047-d746d185ab41",
   "metadata": {},
   "outputs": [],
   "source": [
    "cv_matrix = cv.fit_transform(df_movie['key'])"
   ]
  },
  {
   "cell_type": "code",
   "execution_count": 28,
   "id": "46613f66-1f3f-455c-9b92-b01385568a90",
   "metadata": {},
   "outputs": [
    {
     "data": {
      "text/html": [
       "<div>\n",
       "<style scoped>\n",
       "    .dataframe tbody tr th:only-of-type {\n",
       "        vertical-align: middle;\n",
       "    }\n",
       "\n",
       "    .dataframe tbody tr th {\n",
       "        vertical-align: top;\n",
       "    }\n",
       "\n",
       "    .dataframe thead th {\n",
       "        text-align: right;\n",
       "    }\n",
       "</style>\n",
       "<table border=\"1\" class=\"dataframe\">\n",
       "  <thead>\n",
       "    <tr style=\"text-align: right;\">\n",
       "      <th></th>\n",
       "      <th>1902</th>\n",
       "      <th>1915</th>\n",
       "      <th>1916</th>\n",
       "      <th>1917</th>\n",
       "      <th>1918</th>\n",
       "      <th>1919</th>\n",
       "      <th>1920</th>\n",
       "      <th>1921</th>\n",
       "      <th>1922</th>\n",
       "      <th>1923</th>\n",
       "      <th>...</th>\n",
       "      <th>imax</th>\n",
       "      <th>listed</th>\n",
       "      <th>musical</th>\n",
       "      <th>mystery</th>\n",
       "      <th>noir</th>\n",
       "      <th>romance</th>\n",
       "      <th>sci</th>\n",
       "      <th>thriller</th>\n",
       "      <th>war</th>\n",
       "      <th>western</th>\n",
       "    </tr>\n",
       "  </thead>\n",
       "  <tbody>\n",
       "    <tr>\n",
       "      <th>0</th>\n",
       "      <td>0</td>\n",
       "      <td>0</td>\n",
       "      <td>0</td>\n",
       "      <td>0</td>\n",
       "      <td>0</td>\n",
       "      <td>0</td>\n",
       "      <td>0</td>\n",
       "      <td>0</td>\n",
       "      <td>0</td>\n",
       "      <td>0</td>\n",
       "      <td>...</td>\n",
       "      <td>0</td>\n",
       "      <td>0</td>\n",
       "      <td>0</td>\n",
       "      <td>0</td>\n",
       "      <td>0</td>\n",
       "      <td>0</td>\n",
       "      <td>0</td>\n",
       "      <td>0</td>\n",
       "      <td>0</td>\n",
       "      <td>0</td>\n",
       "    </tr>\n",
       "    <tr>\n",
       "      <th>1</th>\n",
       "      <td>0</td>\n",
       "      <td>0</td>\n",
       "      <td>0</td>\n",
       "      <td>0</td>\n",
       "      <td>0</td>\n",
       "      <td>0</td>\n",
       "      <td>0</td>\n",
       "      <td>0</td>\n",
       "      <td>0</td>\n",
       "      <td>0</td>\n",
       "      <td>...</td>\n",
       "      <td>0</td>\n",
       "      <td>0</td>\n",
       "      <td>0</td>\n",
       "      <td>0</td>\n",
       "      <td>0</td>\n",
       "      <td>0</td>\n",
       "      <td>0</td>\n",
       "      <td>0</td>\n",
       "      <td>0</td>\n",
       "      <td>0</td>\n",
       "    </tr>\n",
       "    <tr>\n",
       "      <th>2</th>\n",
       "      <td>0</td>\n",
       "      <td>0</td>\n",
       "      <td>0</td>\n",
       "      <td>0</td>\n",
       "      <td>0</td>\n",
       "      <td>0</td>\n",
       "      <td>0</td>\n",
       "      <td>0</td>\n",
       "      <td>0</td>\n",
       "      <td>0</td>\n",
       "      <td>...</td>\n",
       "      <td>0</td>\n",
       "      <td>0</td>\n",
       "      <td>0</td>\n",
       "      <td>0</td>\n",
       "      <td>0</td>\n",
       "      <td>1</td>\n",
       "      <td>0</td>\n",
       "      <td>0</td>\n",
       "      <td>0</td>\n",
       "      <td>0</td>\n",
       "    </tr>\n",
       "    <tr>\n",
       "      <th>3</th>\n",
       "      <td>0</td>\n",
       "      <td>0</td>\n",
       "      <td>0</td>\n",
       "      <td>0</td>\n",
       "      <td>0</td>\n",
       "      <td>0</td>\n",
       "      <td>0</td>\n",
       "      <td>0</td>\n",
       "      <td>0</td>\n",
       "      <td>0</td>\n",
       "      <td>...</td>\n",
       "      <td>0</td>\n",
       "      <td>0</td>\n",
       "      <td>0</td>\n",
       "      <td>0</td>\n",
       "      <td>0</td>\n",
       "      <td>1</td>\n",
       "      <td>0</td>\n",
       "      <td>0</td>\n",
       "      <td>0</td>\n",
       "      <td>0</td>\n",
       "    </tr>\n",
       "    <tr>\n",
       "      <th>4</th>\n",
       "      <td>0</td>\n",
       "      <td>0</td>\n",
       "      <td>0</td>\n",
       "      <td>0</td>\n",
       "      <td>0</td>\n",
       "      <td>0</td>\n",
       "      <td>0</td>\n",
       "      <td>0</td>\n",
       "      <td>0</td>\n",
       "      <td>0</td>\n",
       "      <td>...</td>\n",
       "      <td>0</td>\n",
       "      <td>0</td>\n",
       "      <td>0</td>\n",
       "      <td>0</td>\n",
       "      <td>0</td>\n",
       "      <td>0</td>\n",
       "      <td>0</td>\n",
       "      <td>0</td>\n",
       "      <td>0</td>\n",
       "      <td>0</td>\n",
       "    </tr>\n",
       "  </tbody>\n",
       "</table>\n",
       "<p>5 rows × 126 columns</p>\n",
       "</div>"
      ],
      "text/plain": [
       "   1902  1915  1916  1917  1918  1919  1920  1921  1922  1923  ...  imax  \\\n",
       "0     0     0     0     0     0     0     0     0     0     0  ...     0   \n",
       "1     0     0     0     0     0     0     0     0     0     0  ...     0   \n",
       "2     0     0     0     0     0     0     0     0     0     0  ...     0   \n",
       "3     0     0     0     0     0     0     0     0     0     0  ...     0   \n",
       "4     0     0     0     0     0     0     0     0     0     0  ...     0   \n",
       "\n",
       "   listed  musical  mystery  noir  romance  sci  thriller  war  western  \n",
       "0       0        0        0     0        0    0         0    0        0  \n",
       "1       0        0        0     0        0    0         0    0        0  \n",
       "2       0        0        0     0        1    0         0    0        0  \n",
       "3       0        0        0     0        1    0         0    0        0  \n",
       "4       0        0        0     0        0    0         0    0        0  \n",
       "\n",
       "[5 rows x 126 columns]"
      ]
     },
     "execution_count": 28,
     "metadata": {},
     "output_type": "execute_result"
    }
   ],
   "source": [
    "\n",
    "# Convert the sparse matrix to a dense matrix\n",
    "dense_matrix = cv_matrix.todense()\n",
    "\n",
    "# Create a DataFrame to visualize the matrix\n",
    "df_cv = pd.DataFrame(dense_matrix, columns=cv.get_feature_names_out())\n",
    "\n",
    "# Print the DataFrame\n",
    "df_cv.head()"
   ]
  },
  {
   "cell_type": "code",
   "execution_count": 29,
   "id": "19643687-e27a-42ed-815b-c68363c961b3",
   "metadata": {},
   "outputs": [],
   "source": [
    "similarity = cosine_similarity(cv_matrix)"
   ]
  },
  {
   "cell_type": "code",
   "execution_count": 30,
   "id": "70f6e515-9771-427e-a918-2944c0383c74",
   "metadata": {},
   "outputs": [],
   "source": [
    "def content_based_recommender(name, sim = similarity, data = df_movie):\n",
    "    i = data[data.title == name.lower()].index[0]\n",
    "    lst = list(enumerate(sim[i]))\n",
    "    lst = sorted(lst,key = lambda x:x[1] ,reverse=True)\n",
    "    lst = lst[:11]\n",
    "    lst2 = [k for k in lst if k[0] != i]\n",
    "    indices = [j[0] for j in lst2]\n",
    "    return data[['title', 'genres', 'year']].iloc[indices]"
   ]
  },
  {
   "cell_type": "code",
   "execution_count": 31,
   "id": "532d8e1a-a060-4fbe-91b9-747764ae0d6c",
   "metadata": {},
   "outputs": [
    {
     "data": {
      "text/html": [
       "<div>\n",
       "<style scoped>\n",
       "    .dataframe tbody tr th:only-of-type {\n",
       "        vertical-align: middle;\n",
       "    }\n",
       "\n",
       "    .dataframe tbody tr th {\n",
       "        vertical-align: top;\n",
       "    }\n",
       "\n",
       "    .dataframe thead th {\n",
       "        text-align: right;\n",
       "    }\n",
       "</style>\n",
       "<table border=\"1\" class=\"dataframe\">\n",
       "  <thead>\n",
       "    <tr style=\"text-align: right;\">\n",
       "      <th></th>\n",
       "      <th>movieId</th>\n",
       "      <th>title</th>\n",
       "      <th>genres</th>\n",
       "      <th>year</th>\n",
       "      <th>key</th>\n",
       "    </tr>\n",
       "  </thead>\n",
       "  <tbody>\n",
       "    <tr>\n",
       "      <th>7412</th>\n",
       "      <td>72998</td>\n",
       "      <td>avatar</td>\n",
       "      <td>Action Adventure Sci-Fi IMAX</td>\n",
       "      <td>2009</td>\n",
       "      <td>Action Adventure Sci-Fi IMAX 2009</td>\n",
       "    </tr>\n",
       "  </tbody>\n",
       "</table>\n",
       "</div>"
      ],
      "text/plain": [
       "      movieId   title                        genres  year  \\\n",
       "7412    72998  avatar  Action Adventure Sci-Fi IMAX  2009   \n",
       "\n",
       "                                    key  \n",
       "7412  Action Adventure Sci-Fi IMAX 2009  "
      ]
     },
     "execution_count": 31,
     "metadata": {},
     "output_type": "execute_result"
    }
   ],
   "source": [
    "df_movie[df_movie.title == 'avatar']"
   ]
  },
  {
   "cell_type": "code",
   "execution_count": 32,
   "id": "2c8f3071-a6c2-4dcd-9b36-23903038d192",
   "metadata": {},
   "outputs": [
    {
     "data": {
      "text/html": [
       "<div>\n",
       "<style scoped>\n",
       "    .dataframe tbody tr th:only-of-type {\n",
       "        vertical-align: middle;\n",
       "    }\n",
       "\n",
       "    .dataframe tbody tr th {\n",
       "        vertical-align: top;\n",
       "    }\n",
       "\n",
       "    .dataframe thead th {\n",
       "        text-align: right;\n",
       "    }\n",
       "</style>\n",
       "<table border=\"1\" class=\"dataframe\">\n",
       "  <thead>\n",
       "    <tr style=\"text-align: right;\">\n",
       "      <th></th>\n",
       "      <th>title</th>\n",
       "      <th>genres</th>\n",
       "      <th>year</th>\n",
       "    </tr>\n",
       "  </thead>\n",
       "  <tbody>\n",
       "    <tr>\n",
       "      <th>7218</th>\n",
       "      <td>star trek</td>\n",
       "      <td>Action Adventure Sci-Fi IMAX</td>\n",
       "      <td>2009</td>\n",
       "    </tr>\n",
       "    <tr>\n",
       "      <th>7257</th>\n",
       "      <td>transformers: revenge of the fallen</td>\n",
       "      <td>Action Adventure Sci-Fi IMAX</td>\n",
       "      <td>2009</td>\n",
       "    </tr>\n",
       "    <tr>\n",
       "      <th>4103</th>\n",
       "      <td>star wars: episode ii - attack of the clones</td>\n",
       "      <td>Action Adventure Sci-Fi IMAX</td>\n",
       "      <td>2002</td>\n",
       "    </tr>\n",
       "    <tr>\n",
       "      <th>5485</th>\n",
       "      <td>spider-man 2</td>\n",
       "      <td>Action Adventure Sci-Fi IMAX</td>\n",
       "      <td>2004</td>\n",
       "    </tr>\n",
       "    <tr>\n",
       "      <th>6461</th>\n",
       "      <td>superman returns</td>\n",
       "      <td>Action Adventure Sci-Fi IMAX</td>\n",
       "      <td>2006</td>\n",
       "    </tr>\n",
       "    <tr>\n",
       "      <th>7201</th>\n",
       "      <td>dragonball evolution</td>\n",
       "      <td>Action Adventure Fantasy Sci-Fi</td>\n",
       "      <td>2009</td>\n",
       "    </tr>\n",
       "    <tr>\n",
       "      <th>7225</th>\n",
       "      <td>terminator salvation</td>\n",
       "      <td>Action Adventure Sci-Fi Thriller</td>\n",
       "      <td>2009</td>\n",
       "    </tr>\n",
       "    <tr>\n",
       "      <th>7247</th>\n",
       "      <td>land of the lost</td>\n",
       "      <td>Action Adventure Comedy Sci-Fi</td>\n",
       "      <td>2009</td>\n",
       "    </tr>\n",
       "    <tr>\n",
       "      <th>7289</th>\n",
       "      <td>g.i. joe: the rise of cobra</td>\n",
       "      <td>Action Adventure Sci-Fi Thriller</td>\n",
       "      <td>2009</td>\n",
       "    </tr>\n",
       "    <tr>\n",
       "      <th>7379</th>\n",
       "      <td>battlestar galactica: the plan</td>\n",
       "      <td>Action Adventure Drama Sci-Fi</td>\n",
       "      <td>2009</td>\n",
       "    </tr>\n",
       "  </tbody>\n",
       "</table>\n",
       "</div>"
      ],
      "text/plain": [
       "                                             title  \\\n",
       "7218                                     star trek   \n",
       "7257           transformers: revenge of the fallen   \n",
       "4103  star wars: episode ii - attack of the clones   \n",
       "5485                                  spider-man 2   \n",
       "6461                              superman returns   \n",
       "7201                          dragonball evolution   \n",
       "7225                          terminator salvation   \n",
       "7247                              land of the lost   \n",
       "7289                   g.i. joe: the rise of cobra   \n",
       "7379                battlestar galactica: the plan   \n",
       "\n",
       "                                genres  year  \n",
       "7218      Action Adventure Sci-Fi IMAX  2009  \n",
       "7257      Action Adventure Sci-Fi IMAX  2009  \n",
       "4103      Action Adventure Sci-Fi IMAX  2002  \n",
       "5485      Action Adventure Sci-Fi IMAX  2004  \n",
       "6461      Action Adventure Sci-Fi IMAX  2006  \n",
       "7201   Action Adventure Fantasy Sci-Fi  2009  \n",
       "7225  Action Adventure Sci-Fi Thriller  2009  \n",
       "7247    Action Adventure Comedy Sci-Fi  2009  \n",
       "7289  Action Adventure Sci-Fi Thriller  2009  \n",
       "7379     Action Adventure Drama Sci-Fi  2009  "
      ]
     },
     "metadata": {},
     "output_type": "display_data"
    }
   ],
   "source": [
    "display(content_based_recommender('Avatar'))"
   ]
  },
  {
   "cell_type": "markdown",
   "id": "2f73f05d-696a-4d85-add3-bac73a5e1ea0",
   "metadata": {},
   "source": [
    "<a id='cf1'></a>\n",
    "\n",
    "#### 4. Memory based Collaborative Filtering"
   ]
  },
  {
   "cell_type": "markdown",
   "id": "1d8d713a-3be6-4bb0-8c33-584b58aeaa36",
   "metadata": {},
   "source": [
    "<a id='ubcf'></a>\n",
    "\n",
    "#### 4.1. User-based collaborative filtering"
   ]
  },
  {
   "cell_type": "code",
   "execution_count": 37,
   "id": "4a8b358f-b1f9-4d35-9331-3a8a98f7ddeb",
   "metadata": {},
   "outputs": [],
   "source": [
    "my_seed = 0\n",
    "random.seed(my_seed)\n",
    "np.random.seed(my_seed)"
   ]
  },
  {
   "cell_type": "code",
   "execution_count": 38,
   "id": "378f3a27-06ea-405f-9da9-78636473d505",
   "metadata": {},
   "outputs": [],
   "source": [
    "df_ratings = pd.read_csv('./data/ratings.csv')"
   ]
  },
  {
   "cell_type": "code",
   "execution_count": 39,
   "id": "bf56fcd2-26ba-4b18-9b22-66eb555dcac0",
   "metadata": {},
   "outputs": [],
   "source": [
    "df_movies = pd.read_csv('./data/movies.csv')"
   ]
  },
  {
   "cell_type": "code",
   "execution_count": 40,
   "id": "e435c647-d658-4b73-bed1-7a4bb2f764b0",
   "metadata": {},
   "outputs": [
    {
     "data": {
      "text/plain": [
       "array([2.5, 3. , 2. , 4. , 3.5, 1. , 5. , 4.5, 1.5, 0.5])"
      ]
     },
     "execution_count": 40,
     "metadata": {},
     "output_type": "execute_result"
    }
   ],
   "source": [
    "df_ratings.rating.unique()"
   ]
  },
  {
   "cell_type": "code",
   "execution_count": 41,
   "id": "4827b0d0-ee33-487e-bc3f-7b37bbbee98d",
   "metadata": {},
   "outputs": [],
   "source": [
    "df_movieratings = pd.merge(df_ratings, df_movies, on='movieId', how = 'inner')"
   ]
  },
  {
   "cell_type": "code",
   "execution_count": 42,
   "id": "5798096b-5c14-4e21-ad2d-cd81745083e1",
   "metadata": {},
   "outputs": [],
   "source": [
    "reader = Reader(rating_scale=(1, 5))"
   ]
  },
  {
   "cell_type": "code",
   "execution_count": 43,
   "id": "7ded1ef3-7939-45ea-8716-bb290d9a8195",
   "metadata": {},
   "outputs": [],
   "source": [
    "data = Dataset.load_from_df(df_ratings[[\"userId\", \"movieId\", \"rating\"]], reader)"
   ]
  },
  {
   "cell_type": "code",
   "execution_count": 44,
   "id": "d8cc9c74-08ae-49e2-8c92-93712996a7c8",
   "metadata": {},
   "outputs": [],
   "source": [
    "trainset, testset = train_test_split(data, test_size=0.25)"
   ]
  },
  {
   "cell_type": "code",
   "execution_count": 45,
   "id": "43a23486-39ca-466d-8839-5e1149938bc0",
   "metadata": {},
   "outputs": [],
   "source": [
    "sim_options = {'name': 'cosine',\n",
    "               'user_based': True\n",
    "               }"
   ]
  },
  {
   "cell_type": "code",
   "execution_count": 46,
   "id": "c794ede3-62f5-4c41-a363-bdbc95ea0693",
   "metadata": {},
   "outputs": [
    {
     "name": "stdout",
     "output_type": "stream",
     "text": [
      "Computing the cosine similarity matrix...\n",
      "Done computing similarity matrix.\n"
     ]
    }
   ],
   "source": [
    "knn = KNNBasic(sim_options=sim_options)\n",
    "model = knn.fit(trainset)"
   ]
  },
  {
   "cell_type": "code",
   "execution_count": 47,
   "id": "b29be71c-7481-4233-82ff-dc62e19a1867",
   "metadata": {},
   "outputs": [],
   "source": [
    "predictions = model.test(testset)"
   ]
  },
  {
   "cell_type": "code",
   "execution_count": 48,
   "id": "a4135bf1-0a34-4818-a799-8d2991f98587",
   "metadata": {},
   "outputs": [
    {
     "name": "stdout",
     "output_type": "stream",
     "text": [
      "RMSE: 0.9877\n"
     ]
    }
   ],
   "source": [
    "rmse = accuracy.rmse(predictions)"
   ]
  },
  {
   "cell_type": "code",
   "execution_count": 49,
   "id": "318e4ae2-f5b6-4664-b172-de943130c369",
   "metadata": {},
   "outputs": [
    {
     "data": {
      "text/plain": [
       "3.543608255669773"
      ]
     },
     "execution_count": 49,
     "metadata": {},
     "output_type": "execute_result"
    }
   ],
   "source": [
    "df_ratings.rating.mean()"
   ]
  },
  {
   "cell_type": "code",
   "execution_count": 50,
   "id": "9c947a93-9409-4c6a-9c92-059fc7d98cd4",
   "metadata": {},
   "outputs": [],
   "source": [
    "param_grid = {\n",
    "    'k': [10, 20],\n",
    "    'sim_options': {\n",
    "        'name': ['msd', 'cosine'],\n",
    "        'min_support': [1, 5],\n",
    "        'user_based': [True],\n",
    "    },\n",
    "}\n",
    "gs = GridSearchCV(KNNBasic, param_grid, measures=[\"rmse\", \"mae\"], cv=3)"
   ]
  },
  {
   "cell_type": "code",
   "execution_count": 51,
   "id": "fadf0909-11df-4184-83e2-e1de0e69709a",
   "metadata": {
    "scrolled": true
   },
   "outputs": [
    {
     "name": "stdout",
     "output_type": "stream",
     "text": [
      "Computing the msd similarity matrix...\n",
      "Done computing similarity matrix.\n",
      "Computing the msd similarity matrix...\n",
      "Done computing similarity matrix.\n",
      "Computing the msd similarity matrix...\n",
      "Done computing similarity matrix.\n",
      "Computing the msd similarity matrix...\n",
      "Done computing similarity matrix.\n",
      "Computing the msd similarity matrix...\n",
      "Done computing similarity matrix.\n",
      "Computing the msd similarity matrix...\n",
      "Done computing similarity matrix.\n",
      "Computing the cosine similarity matrix...\n",
      "Done computing similarity matrix.\n",
      "Computing the cosine similarity matrix...\n",
      "Done computing similarity matrix.\n",
      "Computing the cosine similarity matrix...\n",
      "Done computing similarity matrix.\n",
      "Computing the cosine similarity matrix...\n",
      "Done computing similarity matrix.\n",
      "Computing the cosine similarity matrix...\n",
      "Done computing similarity matrix.\n",
      "Computing the cosine similarity matrix...\n",
      "Done computing similarity matrix.\n",
      "Computing the msd similarity matrix...\n",
      "Done computing similarity matrix.\n",
      "Computing the msd similarity matrix...\n",
      "Done computing similarity matrix.\n",
      "Computing the msd similarity matrix...\n",
      "Done computing similarity matrix.\n",
      "Computing the msd similarity matrix...\n",
      "Done computing similarity matrix.\n",
      "Computing the msd similarity matrix...\n",
      "Done computing similarity matrix.\n",
      "Computing the msd similarity matrix...\n",
      "Done computing similarity matrix.\n",
      "Computing the cosine similarity matrix...\n",
      "Done computing similarity matrix.\n",
      "Computing the cosine similarity matrix...\n",
      "Done computing similarity matrix.\n",
      "Computing the cosine similarity matrix...\n",
      "Done computing similarity matrix.\n",
      "Computing the cosine similarity matrix...\n",
      "Done computing similarity matrix.\n",
      "Computing the cosine similarity matrix...\n",
      "Done computing similarity matrix.\n",
      "Computing the cosine similarity matrix...\n",
      "Done computing similarity matrix.\n"
     ]
    }
   ],
   "source": [
    "model = gs.fit(data)"
   ]
  },
  {
   "cell_type": "code",
   "execution_count": 52,
   "id": "5b30fe85-22a7-413e-8600-0738c49a04e0",
   "metadata": {},
   "outputs": [
    {
     "name": "stdout",
     "output_type": "stream",
     "text": [
      "0.9720027713673324\n",
      "{'k': 20, 'sim_options': {'name': 'msd', 'min_support': 1, 'user_based': True}}\n"
     ]
    }
   ],
   "source": [
    "print(gs.best_score[\"rmse\"])\n",
    "print(gs.best_params[\"rmse\"])\n"
   ]
  },
  {
   "cell_type": "code",
   "execution_count": 53,
   "id": "bd742f7c-3069-45f3-b3bd-b49615e73477",
   "metadata": {},
   "outputs": [
    {
     "name": "stdout",
     "output_type": "stream",
     "text": [
      "Computing the msd similarity matrix...\n",
      "Done computing similarity matrix.\n",
      "Computing the msd similarity matrix...\n",
      "Done computing similarity matrix.\n"
     ]
    }
   ],
   "source": [
    "sim_options = {'name': 'msd', 'min_support': 1, 'user_based': True}\n",
    "trainSet = data.build_full_trainset()\n",
    "knn = KNNBasic(k=20, sim_options=sim_options)\n",
    "model = knn.fit(trainSet)\n",
    "simsMatrix = model.compute_similarities()"
   ]
  },
  {
   "cell_type": "code",
   "execution_count": 54,
   "id": "b9efc439-9b71-431e-94ce-9e5caa9ccef8",
   "metadata": {},
   "outputs": [],
   "source": [
    "testSubject = 85"
   ]
  },
  {
   "cell_type": "code",
   "execution_count": 55,
   "id": "ea863ccc-37e2-4fe6-8ac2-d26c784f4740",
   "metadata": {},
   "outputs": [
    {
     "data": {
      "text/plain": [
       "671"
      ]
     },
     "execution_count": 55,
     "metadata": {},
     "output_type": "execute_result"
    }
   ],
   "source": [
    "df_ratings['userId'].nunique()"
   ]
  },
  {
   "cell_type": "code",
   "execution_count": 56,
   "id": "ca6a3dde-c4f0-42f3-a9bb-9113adaaa69f",
   "metadata": {},
   "outputs": [
    {
     "data": {
      "text/plain": [
       "107"
      ]
     },
     "execution_count": 56,
     "metadata": {},
     "output_type": "execute_result"
    }
   ],
   "source": [
    "df_ratings[df_ratings.userId==testSubject]['movieId'].nunique()"
   ]
  },
  {
   "cell_type": "code",
   "execution_count": 57,
   "id": "59f98517-518e-404a-9906-56f9e6ead864",
   "metadata": {},
   "outputs": [
    {
     "data": {
      "text/plain": [
       "3.1869158878504673"
      ]
     },
     "execution_count": 57,
     "metadata": {},
     "output_type": "execute_result"
    }
   ],
   "source": [
    "df_ratings[df_ratings.userId==testSubject]['rating'].mean()"
   ]
  },
  {
   "cell_type": "code",
   "execution_count": 58,
   "id": "b1995bba-c62c-47c1-bb82-aeeb7ad2b396",
   "metadata": {},
   "outputs": [],
   "source": [
    "testsub_top10movies = df_ratings[df_ratings.userId==testSubject].sort_values(by = 'rating', ascending = False)[:10].drop('timestamp', axis=1).copy()"
   ]
  },
  {
   "cell_type": "code",
   "execution_count": 59,
   "id": "39a0c528-e867-4cd1-8d27-f3ec41170ce9",
   "metadata": {},
   "outputs": [],
   "source": [
    "testsub_top10movies = pd.merge(testsub_top10movies, df_movies, on='movieId', how = 'inner')"
   ]
  },
  {
   "cell_type": "code",
   "execution_count": 60,
   "id": "6fa2dca1-9e07-49a8-baaf-7ada10b1005a",
   "metadata": {},
   "outputs": [
    {
     "data": {
      "text/html": [
       "<div>\n",
       "<style scoped>\n",
       "    .dataframe tbody tr th:only-of-type {\n",
       "        vertical-align: middle;\n",
       "    }\n",
       "\n",
       "    .dataframe tbody tr th {\n",
       "        vertical-align: top;\n",
       "    }\n",
       "\n",
       "    .dataframe thead th {\n",
       "        text-align: right;\n",
       "    }\n",
       "</style>\n",
       "<table border=\"1\" class=\"dataframe\">\n",
       "  <thead>\n",
       "    <tr style=\"text-align: right;\">\n",
       "      <th></th>\n",
       "      <th>userId</th>\n",
       "      <th>movieId</th>\n",
       "      <th>rating</th>\n",
       "      <th>title</th>\n",
       "      <th>genres</th>\n",
       "    </tr>\n",
       "  </thead>\n",
       "  <tbody>\n",
       "    <tr>\n",
       "      <th>0</th>\n",
       "      <td>85</td>\n",
       "      <td>2</td>\n",
       "      <td>5.0</td>\n",
       "      <td>Jumanji (1995)</td>\n",
       "      <td>Adventure|Children|Fantasy</td>\n",
       "    </tr>\n",
       "    <tr>\n",
       "      <th>1</th>\n",
       "      <td>85</td>\n",
       "      <td>255</td>\n",
       "      <td>5.0</td>\n",
       "      <td>Jerky Boys, The (1995)</td>\n",
       "      <td>Comedy</td>\n",
       "    </tr>\n",
       "    <tr>\n",
       "      <th>2</th>\n",
       "      <td>85</td>\n",
       "      <td>648</td>\n",
       "      <td>5.0</td>\n",
       "      <td>Mission: Impossible (1996)</td>\n",
       "      <td>Action|Adventure|Mystery|Thriller</td>\n",
       "    </tr>\n",
       "    <tr>\n",
       "      <th>3</th>\n",
       "      <td>85</td>\n",
       "      <td>589</td>\n",
       "      <td>5.0</td>\n",
       "      <td>Terminator 2: Judgment Day (1991)</td>\n",
       "      <td>Action|Sci-Fi</td>\n",
       "    </tr>\n",
       "    <tr>\n",
       "      <th>4</th>\n",
       "      <td>85</td>\n",
       "      <td>480</td>\n",
       "      <td>5.0</td>\n",
       "      <td>Jurassic Park (1993)</td>\n",
       "      <td>Action|Adventure|Sci-Fi|Thriller</td>\n",
       "    </tr>\n",
       "    <tr>\n",
       "      <th>5</th>\n",
       "      <td>85</td>\n",
       "      <td>457</td>\n",
       "      <td>5.0</td>\n",
       "      <td>Fugitive, The (1993)</td>\n",
       "      <td>Thriller</td>\n",
       "    </tr>\n",
       "    <tr>\n",
       "      <th>6</th>\n",
       "      <td>85</td>\n",
       "      <td>380</td>\n",
       "      <td>5.0</td>\n",
       "      <td>True Lies (1994)</td>\n",
       "      <td>Action|Adventure|Comedy|Romance|Thriller</td>\n",
       "    </tr>\n",
       "    <tr>\n",
       "      <th>7</th>\n",
       "      <td>85</td>\n",
       "      <td>377</td>\n",
       "      <td>5.0</td>\n",
       "      <td>Speed (1994)</td>\n",
       "      <td>Action|Romance|Thriller</td>\n",
       "    </tr>\n",
       "    <tr>\n",
       "      <th>8</th>\n",
       "      <td>85</td>\n",
       "      <td>329</td>\n",
       "      <td>5.0</td>\n",
       "      <td>Star Trek: Generations (1994)</td>\n",
       "      <td>Adventure|Drama|Sci-Fi</td>\n",
       "    </tr>\n",
       "    <tr>\n",
       "      <th>9</th>\n",
       "      <td>85</td>\n",
       "      <td>318</td>\n",
       "      <td>5.0</td>\n",
       "      <td>Shawshank Redemption, The (1994)</td>\n",
       "      <td>Crime|Drama</td>\n",
       "    </tr>\n",
       "  </tbody>\n",
       "</table>\n",
       "</div>"
      ],
      "text/plain": [
       "   userId  movieId  rating                              title  \\\n",
       "0      85        2     5.0                     Jumanji (1995)   \n",
       "1      85      255     5.0             Jerky Boys, The (1995)   \n",
       "2      85      648     5.0         Mission: Impossible (1996)   \n",
       "3      85      589     5.0  Terminator 2: Judgment Day (1991)   \n",
       "4      85      480     5.0               Jurassic Park (1993)   \n",
       "5      85      457     5.0               Fugitive, The (1993)   \n",
       "6      85      380     5.0                   True Lies (1994)   \n",
       "7      85      377     5.0                       Speed (1994)   \n",
       "8      85      329     5.0      Star Trek: Generations (1994)   \n",
       "9      85      318     5.0   Shawshank Redemption, The (1994)   \n",
       "\n",
       "                                     genres  \n",
       "0                Adventure|Children|Fantasy  \n",
       "1                                    Comedy  \n",
       "2         Action|Adventure|Mystery|Thriller  \n",
       "3                             Action|Sci-Fi  \n",
       "4          Action|Adventure|Sci-Fi|Thriller  \n",
       "5                                  Thriller  \n",
       "6  Action|Adventure|Comedy|Romance|Thriller  \n",
       "7                   Action|Romance|Thriller  \n",
       "8                    Adventure|Drama|Sci-Fi  \n",
       "9                               Crime|Drama  "
      ]
     },
     "execution_count": 60,
     "metadata": {},
     "output_type": "execute_result"
    }
   ],
   "source": [
    "testsub_top10movies"
   ]
  },
  {
   "cell_type": "markdown",
   "id": "9d9d4746-621c-4ba7-8852-28f704ff7515",
   "metadata": {},
   "source": [
    "Surprise package uses raw_ids and inner_ids for different methods. Use the documentation to ensure you are using the right id. Raw ids are ids as defined in a rating file or in a pandas dataframe. On trainset creation, each raw id is mapped to a unique integer called inner id, which is a lot more suitable for Surprise to manipulate. Conversions between raw and inner ids can be done using the to_inner_uid(), to_inner_iid(), to_raw_uid(), and to_raw_iid() methods of the trainset"
   ]
  },
  {
   "cell_type": "code",
   "execution_count": 62,
   "id": "35850cc1-ef97-4f35-b135-38fe94b4a0db",
   "metadata": {},
   "outputs": [
    {
     "name": "stdout",
     "output_type": "stream",
     "text": [
      "84 650\n",
      "85 2\n"
     ]
    }
   ],
   "source": [
    "print(trainSet.to_inner_uid(85),trainSet.to_inner_iid(2))\n",
    "print(trainSet.to_raw_uid(84),trainSet.to_raw_iid(650))"
   ]
  },
  {
   "cell_type": "code",
   "execution_count": 63,
   "id": "2b14bd03-ea81-4954-92ed-157858233a7f",
   "metadata": {},
   "outputs": [
    {
     "data": {
      "text/plain": [
       "Prediction(uid=85, iid=2, r_ui=5.0, est=4.073726173715347, details={'actual_k': 20, 'was_impossible': False})"
      ]
     },
     "execution_count": 63,
     "metadata": {},
     "output_type": "execute_result"
    }
   ],
   "source": [
    "# Predict method uses raw ids\n",
    "\n",
    "model.predict(85,2, r_ui = df_ratings.loc[(df_ratings.userId == 85) & (df_ratings.movieId == 2),'rating'].iloc[0] )"
   ]
  },
  {
   "cell_type": "code",
   "execution_count": 64,
   "id": "790d37aa-3a3c-4624-bb11-636448e7320a",
   "metadata": {},
   "outputs": [
    {
     "name": "stdout",
     "output_type": "stream",
     "text": [
      "<class 'pandas.core.frame.DataFrame'>\n",
      "RangeIndex: 671 entries, 0 to 670\n",
      "Columns: 671 entries, 0 to 670\n",
      "dtypes: float64(671)\n",
      "memory usage: 3.4 MB\n"
     ]
    }
   ],
   "source": [
    "# Create a DataFrame to visualize the matrix\n",
    "df_simsMatrix = pd.DataFrame(simsMatrix)\n",
    "\n",
    "# Print the DataFrame\n",
    "df_simsMatrix.info()"
   ]
  },
  {
   "cell_type": "code",
   "execution_count": 65,
   "id": "01bb67a9-e7c8-42f3-b8a6-3bc6ebbc9700",
   "metadata": {},
   "outputs": [],
   "source": [
    "testUserInnerID = trainSet.to_inner_uid(testSubject)"
   ]
  },
  {
   "cell_type": "code",
   "execution_count": 66,
   "id": "7df6566e-87db-4a19-a32e-c04250e6b143",
   "metadata": {},
   "outputs": [
    {
     "data": {
      "text/plain": [
       "84"
      ]
     },
     "execution_count": 66,
     "metadata": {},
     "output_type": "execute_result"
    }
   ],
   "source": [
    "testUserInnerID"
   ]
  },
  {
   "cell_type": "code",
   "execution_count": 67,
   "id": "913323e0-eec5-45a3-993e-3e7877348217",
   "metadata": {},
   "outputs": [],
   "source": [
    "kNeighbors = list(enumerate(simsMatrix[testUserInnerID]))\n",
    "kNeighbors = sorted(kNeighbors,key = lambda x:x[1] ,reverse=True)\n",
    "kNeighbors = kNeighbors[:11]\n",
    "kNeighbors = [k for k in kNeighbors if k[0] != testUserInnerID]"
   ]
  },
  {
   "cell_type": "markdown",
   "id": "23791da3-1514-4d0e-9af7-dd2c76afce7e",
   "metadata": {},
   "source": [
    "In the Surprise package, trainSet.ur represents a dictionary where the keys are user inner IDs and the values are lists of tuples. Each tuple within the list contains an item inner ID and its corresponding rating.\n",
    "You can learn more about trainset class over [here](https://surprise.readthedocs.io/en/stable/trainset.html)\n"
   ]
  },
  {
   "cell_type": "code",
   "execution_count": 69,
   "id": "80df3f0f-558c-42f1-80a6-ffa92a2b87aa",
   "metadata": {},
   "outputs": [
    {
     "name": "stdout",
     "output_type": "stream",
     "text": [
      "Star Wars: Episode IV - A New Hope (1977)\n",
      "Willy Wonka & the Chocolate Factory (1971)\n",
      "Fight Club (1999)\n",
      "American Beauty (1999)\n",
      "Star Wars: Episode VI - Return of the Jedi (1983)\n",
      "Trainspotting (1996)\n",
      "Departed, The (2006)\n",
      "Usual Suspects, The (1995)\n",
      "Brazil (1985)\n",
      "Star Wars: Episode V - The Empire Strikes Back (1980)\n",
      "Blade Runner (1982)\n"
     ]
    }
   ],
   "source": [
    "# Get the stuff they rated, and add up ratings for each item, weighted by user similarity\n",
    "\n",
    "candidates = defaultdict(float)\n",
    "for similarUser in kNeighbors:\n",
    "    innerID = similarUser[0]\n",
    "    userSimilarityScore = similarUser[1]\n",
    "    theirRatings = trainSet.ur[innerID]\n",
    "    for rating in theirRatings:\n",
    "        candidates[rating[0]] += (rating[1] / 5.0) * userSimilarityScore\n",
    "\n",
    "# Build a dictionary of stuff the user has already seen\n",
    "\n",
    "watched = {}\n",
    "for itemID, rating in trainSet.ur[testUserInnerID]:\n",
    "    watched[itemID] = 1\n",
    "    \n",
    "# Get top-rated items from similar users:\n",
    "pos = 0\n",
    "for itemID, ratingSum in sorted(candidates.items(), key=lambda x: x[1], reverse=True):\n",
    "    if itemID not in watched:\n",
    "        movieID = trainSet.to_raw_iid(itemID)\n",
    "        print(df_movieratings.loc[df_movieratings.movieId == int(movieID), 'title'].iloc[0])\n",
    "        pos += 1\n",
    "        if (pos > 10):\n",
    "            break\n"
   ]
  },
  {
   "cell_type": "code",
   "execution_count": 70,
   "id": "e20c238b-aef2-4aca-af9e-34bbc2a096fb",
   "metadata": {},
   "outputs": [],
   "source": [
    "\n",
    "def precision_recall_at_k(predictions, k=10, threshold=3.5):\n",
    "    \"\"\"Return precision and recall at k metrics for each user\"\"\"\n",
    "\n",
    "    # First map the predictions to each user.\n",
    "    user_est_true = defaultdict(list)\n",
    "    for uid, _, true_r, est, _ in predictions:\n",
    "        user_est_true[uid].append((est, true_r))\n",
    "\n",
    "    precision = dict()\n",
    "    recall = dict()\n",
    "    for uid, user_ratings in user_est_true.items():\n",
    "\n",
    "        # Sort user ratings by estimated value\n",
    "        user_ratings.sort(key=lambda x: x[0], reverse=True)\n",
    "\n",
    "        # Number of relevant items\n",
    "        n_rel = sum((true_r >= threshold) for (_, true_r) in user_ratings)\n",
    "\n",
    "        # Number of recommended items in top k\n",
    "        n_rec_k = sum((est >= threshold) for (est, _) in user_ratings[:k])\n",
    "\n",
    "        # Number of relevant and recommended items in top k\n",
    "        n_rel_and_rec_k = sum(\n",
    "            ((true_r >= threshold) and (est >= threshold))\n",
    "            for (est, true_r) in user_ratings[:k]\n",
    "        )\n",
    "\n",
    "        # Precision@K: Proportion of recommended items that are relevant\n",
    "        # When n_rec_k is 0, Precision is undefined. We here set it to 0.\n",
    "\n",
    "        precision[uid] = n_rel_and_rec_k / n_rec_k if n_rec_k != 0 else 0\n",
    "\n",
    "        # Recall@K: Proportion of relevant items that are recommended\n",
    "        # When n_rel is 0, Recall is undefined. We here set it to 0.\n",
    "\n",
    "        recall[uid] = n_rel_and_rec_k / n_rel if n_rel != 0 else 0\n",
    "\n",
    "    return precision, recall"
   ]
  },
  {
   "cell_type": "code",
   "execution_count": 71,
   "id": "8d2647ed-929a-48fb-9f5e-6097bceae5fd",
   "metadata": {},
   "outputs": [
    {
     "name": "stdout",
     "output_type": "stream",
     "text": [
      "0.9025483168925779\n",
      "0.5701322316798016\n"
     ]
    }
   ],
   "source": [
    "precisions, recalls = precision_recall_at_k(predictions, k=10, threshold=3)\n",
    "\n",
    "\n",
    "# Precision and recall can then be averaged over all users\n",
    "print(sum(prec for prec in precisions.values()) / len(precisions))\n",
    "print(sum(rec for rec in recalls.values()) / len(recalls))\n"
   ]
  },
  {
   "cell_type": "markdown",
   "id": "d0458cc4-00e8-4b30-a110-cfb414259dc1",
   "metadata": {},
   "source": [
    "<a id='ibcf'></a>\n",
    "\n",
    "#### 4.2. Item based Collaborative Filtering"
   ]
  },
  {
   "cell_type": "code",
   "execution_count": 303,
   "id": "175708c4-83a8-4e36-8ff6-3048560e687c",
   "metadata": {},
   "outputs": [],
   "source": [
    "trainset, testset = train_test_split(data, test_size=0.25)"
   ]
  },
  {
   "cell_type": "code",
   "execution_count": 304,
   "id": "f8bade2d-f88d-4c8f-b74b-91a758e87056",
   "metadata": {},
   "outputs": [],
   "source": [
    "sim_options = {'name': 'cosine',\n",
    "               'user_based': False\n",
    "               }"
   ]
  },
  {
   "cell_type": "code",
   "execution_count": 305,
   "id": "babf6e3a-5bd0-4f00-9b2a-9f3fca6946c9",
   "metadata": {},
   "outputs": [
    {
     "name": "stdout",
     "output_type": "stream",
     "text": [
      "Computing the cosine similarity matrix...\n",
      "Done computing similarity matrix.\n"
     ]
    }
   ],
   "source": [
    "knn = KNNBasic(sim_options=sim_options)\n",
    "model = knn.fit(trainset)"
   ]
  },
  {
   "cell_type": "code",
   "execution_count": 306,
   "id": "8027949a-de87-4e82-809f-753e555eac88",
   "metadata": {},
   "outputs": [],
   "source": [
    "predictions = model.test(testset)"
   ]
  },
  {
   "cell_type": "code",
   "execution_count": 307,
   "id": "154aa6a3-5ec6-4934-9370-6305b616d13b",
   "metadata": {},
   "outputs": [
    {
     "name": "stdout",
     "output_type": "stream",
     "text": [
      "RMSE: 0.9959\n"
     ]
    }
   ],
   "source": [
    "rmse = accuracy.rmse(predictions)"
   ]
  },
  {
   "cell_type": "code",
   "execution_count": 308,
   "id": "50d7df7d-3706-45d4-8be3-2459ac7c8221",
   "metadata": {},
   "outputs": [
    {
     "data": {
      "text/plain": [
       "3.543608255669773"
      ]
     },
     "execution_count": 308,
     "metadata": {},
     "output_type": "execute_result"
    }
   ],
   "source": [
    "df_ratings.rating.mean()"
   ]
  },
  {
   "cell_type": "code",
   "execution_count": 309,
   "id": "9d0765be-b573-4928-9cbe-f7f7bc0818f8",
   "metadata": {},
   "outputs": [],
   "source": [
    "param_grid = {\n",
    "    'k': [10, 20],\n",
    "    'sim_options': {\n",
    "        'name': ['msd', 'cosine'],\n",
    "        'min_support': [1, 5],\n",
    "        'user_based': [False],\n",
    "    },\n",
    "}\n",
    "gs = GridSearchCV(KNNBasic, param_grid, measures=[\"rmse\", \"mae\"], cv=3)"
   ]
  },
  {
   "cell_type": "code",
   "execution_count": 310,
   "id": "7bebf508-7262-4bd6-ade4-329c5a4bf5ed",
   "metadata": {
    "scrolled": true
   },
   "outputs": [
    {
     "name": "stdout",
     "output_type": "stream",
     "text": [
      "Computing the msd similarity matrix...\n",
      "Done computing similarity matrix.\n",
      "Computing the msd similarity matrix...\n",
      "Done computing similarity matrix.\n",
      "Computing the msd similarity matrix...\n",
      "Done computing similarity matrix.\n",
      "Computing the msd similarity matrix...\n",
      "Done computing similarity matrix.\n",
      "Computing the msd similarity matrix...\n",
      "Done computing similarity matrix.\n",
      "Computing the msd similarity matrix...\n",
      "Done computing similarity matrix.\n",
      "Computing the cosine similarity matrix...\n",
      "Done computing similarity matrix.\n",
      "Computing the cosine similarity matrix...\n",
      "Done computing similarity matrix.\n",
      "Computing the cosine similarity matrix...\n",
      "Done computing similarity matrix.\n",
      "Computing the cosine similarity matrix...\n",
      "Done computing similarity matrix.\n",
      "Computing the cosine similarity matrix...\n",
      "Done computing similarity matrix.\n",
      "Computing the cosine similarity matrix...\n",
      "Done computing similarity matrix.\n",
      "Computing the msd similarity matrix...\n",
      "Done computing similarity matrix.\n",
      "Computing the msd similarity matrix...\n",
      "Done computing similarity matrix.\n",
      "Computing the msd similarity matrix...\n",
      "Done computing similarity matrix.\n",
      "Computing the msd similarity matrix...\n",
      "Done computing similarity matrix.\n",
      "Computing the msd similarity matrix...\n",
      "Done computing similarity matrix.\n",
      "Computing the msd similarity matrix...\n",
      "Done computing similarity matrix.\n",
      "Computing the cosine similarity matrix...\n",
      "Done computing similarity matrix.\n",
      "Computing the cosine similarity matrix...\n",
      "Done computing similarity matrix.\n",
      "Computing the cosine similarity matrix...\n",
      "Done computing similarity matrix.\n",
      "Computing the cosine similarity matrix...\n",
      "Done computing similarity matrix.\n",
      "Computing the cosine similarity matrix...\n",
      "Done computing similarity matrix.\n",
      "Computing the cosine similarity matrix...\n",
      "Done computing similarity matrix.\n"
     ]
    }
   ],
   "source": [
    "model = gs.fit(data)"
   ]
  },
  {
   "cell_type": "code",
   "execution_count": 311,
   "id": "90c93c19-e97b-4468-ae14-d4297d59c895",
   "metadata": {},
   "outputs": [
    {
     "name": "stdout",
     "output_type": "stream",
     "text": [
      "0.9513823011750199\n",
      "{'k': 20, 'sim_options': {'name': 'msd', 'min_support': 1, 'user_based': False}}\n"
     ]
    }
   ],
   "source": [
    "print(gs.best_score[\"rmse\"])\n",
    "print(gs.best_params[\"rmse\"])\n"
   ]
  },
  {
   "cell_type": "code",
   "execution_count": 312,
   "id": "3b9aa872-d064-460f-9be4-90f19f1fc86c",
   "metadata": {},
   "outputs": [
    {
     "name": "stdout",
     "output_type": "stream",
     "text": [
      "Computing the msd similarity matrix...\n",
      "Done computing similarity matrix.\n",
      "Computing the msd similarity matrix...\n",
      "Done computing similarity matrix.\n"
     ]
    }
   ],
   "source": [
    "sim_options = {'name': 'msd', 'min_support': 1, 'user_based': False}\n",
    "trainSet = data.build_full_trainset()\n",
    "knn = KNNBasic(k=20, sim_options=sim_options)\n",
    "model = knn.fit(trainSet)\n",
    "simsMatrix = model.compute_similarities()"
   ]
  },
  {
   "cell_type": "code",
   "execution_count": 313,
   "id": "098c678d-e129-4eab-b7fb-c190a61462b8",
   "metadata": {},
   "outputs": [],
   "source": [
    "testSubject = 85"
   ]
  },
  {
   "cell_type": "code",
   "execution_count": 314,
   "id": "88e5d2a5-c8fd-4f66-ac59-c3a1e274252e",
   "metadata": {},
   "outputs": [],
   "source": [
    "testUserInnerID = trainSet.to_inner_uid(testSubject)\n",
    "\n",
    "# Get the top K items we rated\n",
    "testUserRatings = trainSet.ur[testUserInnerID]"
   ]
  },
  {
   "cell_type": "code",
   "execution_count": 315,
   "id": "2fa3b875-d688-4a22-bdbf-839e5251eb5a",
   "metadata": {},
   "outputs": [],
   "source": [
    "# Get the top K items we rated\n",
    "kNeighbors = sorted(testUserRatings, key=lambda t: t[1], reverse = True)\n",
    "kNeighbors = kNeighbors[:10]"
   ]
  },
  {
   "cell_type": "code",
   "execution_count": 316,
   "id": "a7fe167a-83e6-4402-a906-415a223e0bf2",
   "metadata": {},
   "outputs": [
    {
     "name": "stdout",
     "output_type": "stream",
     "text": [
      "Temple Grandin (2010)\n",
      "Junebug (2005)\n",
      "1984 (1956)\n",
      "Kiss of Death (1995)\n",
      "New Jersey Drive (1995)\n",
      "Boys (1996)\n",
      "James Dean Story, The (1957)\n",
      "Ted 2 (2015)\n",
      "Metallica: Some Kind of Monster (2004)\n",
      "Box of Moon Light (1996)\n",
      "Fortress (1992)\n"
     ]
    }
   ],
   "source": [
    "# Get similar items to stuff we liked (weighted by rating)\n",
    "candidates = defaultdict(float)\n",
    "for itemID, rating in kNeighbors:\n",
    "    similarityRow = simsMatrix[itemID]\n",
    "    for innerID, score in enumerate(similarityRow):\n",
    "        candidates[innerID] += score * (rating / 5.0)\n",
    "    \n",
    "# Build a dictionary of stuff the user has already seen\n",
    "watched = {}\n",
    "for itemID, rating in trainSet.ur[testUserInnerID]:\n",
    "    watched[itemID] = 1\n",
    "    \n",
    "# Get top-rated items from similar users:\n",
    "pos = 0\n",
    "for itemID, ratingSum in sorted(candidates.items(), key=lambda x: x[1], reverse=True):\n",
    "    if not itemID in watched:\n",
    "        movieID = trainSet.to_raw_iid(itemID)\n",
    "        print(df_movieratings.loc[df_movieratings.movieId == int(movieID), 'title'].iloc[0])\n",
    "        pos += 1\n",
    "        if (pos > 10):\n",
    "            break"
   ]
  },
  {
   "cell_type": "code",
   "execution_count": 318,
   "id": "75868c36-49ac-402d-a8b5-cf649875cdb9",
   "metadata": {},
   "outputs": [
    {
     "name": "stdout",
     "output_type": "stream",
     "text": [
      "0.8414845173041882\n",
      "0.533833751892656\n"
     ]
    }
   ],
   "source": [
    "precisions, recalls = precision_recall_at_k(predictions, k=10, threshold=3)\n",
    "\n",
    "\n",
    "# Precision and recall can then be averaged over all users\n",
    "print(sum(prec for prec in precisions.values()) / len(precisions))\n",
    "print(sum(rec for rec in recalls.values()) / len(recalls))\n"
   ]
  },
  {
   "cell_type": "markdown",
   "id": "12b07820-a8cd-4482-8b53-d74a46b5e7cf",
   "metadata": {},
   "source": [
    "<a id='cf2'></a>\n",
    "\n",
    "#### 5. Model Based Collaborative Filtering"
   ]
  },
  {
   "cell_type": "markdown",
   "id": "2160ac3b-11b5-4da6-af02-5b2a51739de2",
   "metadata": {},
   "source": [
    "<a id='svd'></a>\n",
    "\n",
    "#### 5.1. Singular Value Decomposition"
   ]
  },
  {
   "cell_type": "markdown",
   "id": "2235d02c-3d7d-478e-88c1-5577a822cf0a",
   "metadata": {},
   "source": [
    "\n",
    "\n",
    "**How SVD works:**\n",
    "\n",
    "- User-Item Rating Matrix: This matrix represents the ratings given by users to items. Each row corresponds to a user, and each column corresponds to an item.\n",
    "- Matrix Decomposition: The user-item rating matrix is decomposed into two lower-rank matrices:\n",
    "> - User Matrix (U): Represents latent features of users. Each row corresponds to a user, and each column represents a latent feature.\n",
    "> - Item Matrix (V): Represents latent features of items. Each row corresponds to an item, and each column represents a latent feature.\n",
    "\n",
    "The idea is that the dot product of a user's latent feature vector and an item's latent feature vector approximates the user's rating for that item.\n",
    "\n",
    "**Mathematical Representation:**\n",
    "\n",
    "Let R be the user-item rating matrix, U be the user matrix, and V^T be the transpose of the item matrix.\n",
    "\n",
    "$R ≈ U * V^T$\n",
    "\n",
    "**Singular Value Decomposition (SVD):**\n",
    "\n",
    "SVD is a popular technique for matrix factorization. It decomposes a matrix into three matrices:\n",
    "\n",
    "$R = U * Σ * V^T$\n",
    "\n",
    "- $U$: Orthogonal $m \\times m$ matrix of left singular vectors of $R$\n",
    "- $Σ$: Diagonal $m \\times n$ matrix of singular values of $R$\n",
    "- $V^T$: Orthogonal $n \\times n$ matrix of right singular vectors  of $R$\n",
    "\n",
    "By truncating the singular values and corresponding singular vectors, we can reduce the dimensionality of the original matrix and obtain a low-rank approximation. This low-rank approximation can be used to predict missing ratings in the user-item matrix."
   ]
  },
  {
   "cell_type": "code",
   "execution_count": 200,
   "id": "1680385e-35da-4797-ac8f-58da3107303d",
   "metadata": {},
   "outputs": [
    {
     "data": {
      "text/plain": [
       "array([[-1,  2],\n",
       "       [ 3, -2],\n",
       "       [ 5,  7]])"
      ]
     },
     "execution_count": 200,
     "metadata": {},
     "output_type": "execute_result"
    }
   ],
   "source": [
    "R = np.array([[-1, 2], [3, -2], [5, 7]])\n",
    "R"
   ]
  },
  {
   "cell_type": "code",
   "execution_count": 204,
   "id": "7662fa9b-187a-47ff-8d71-9bae8a13f48d",
   "metadata": {},
   "outputs": [],
   "source": [
    "U, D, VT = svd(R) # V is already transposed"
   ]
  },
  {
   "cell_type": "code",
   "execution_count": 198,
   "id": "63ab32f4-b781-4094-b5ba-a87fc9ffe983",
   "metadata": {},
   "outputs": [
    {
     "data": {
      "text/plain": [
       "array([[ 0.12708324,  0.47409506,  0.87125411],\n",
       "       [ 0.00164602, -0.87847553,  0.47778451],\n",
       "       [ 0.99189069, -0.0592843 , -0.11241989]])"
      ]
     },
     "execution_count": 198,
     "metadata": {},
     "output_type": "execute_result"
    }
   ],
   "source": [
    "U"
   ]
  },
  {
   "cell_type": "code",
   "execution_count": 214,
   "id": "c9d04352-2d13-428c-b478-5cfb2e85be4e",
   "metadata": {},
   "outputs": [],
   "source": [
    "D = np.concatenate((np.diag(D), [[0, 0]]), axis=0)"
   ]
  },
  {
   "cell_type": "code",
   "execution_count": 216,
   "id": "95822ebf-ebf6-4f83-ab69-6d97aeb145e4",
   "metadata": {},
   "outputs": [
    {
     "data": {
      "text/plain": [
       "array([[ 0.55798885,  0.82984845],\n",
       "       [-0.82984845,  0.55798885]])"
      ]
     },
     "execution_count": 216,
     "metadata": {},
     "output_type": "execute_result"
    }
   ],
   "source": [
    "VT"
   ]
  },
  {
   "cell_type": "code",
   "execution_count": 218,
   "id": "c1baa1de-7ec7-431a-9994-4d72efc40e9f",
   "metadata": {},
   "outputs": [
    {
     "data": {
      "text/plain": [
       "array([[-1.,  2.],\n",
       "       [ 3., -2.],\n",
       "       [ 5.,  7.]])"
      ]
     },
     "execution_count": 218,
     "metadata": {},
     "output_type": "execute_result"
    }
   ],
   "source": [
    "np.dot(U, np.dot(D, VT))"
   ]
  },
  {
   "cell_type": "code",
   "execution_count": 403,
   "id": "2419fe61-5fa9-4d53-8943-0203c1daa61f",
   "metadata": {},
   "outputs": [],
   "source": [
    "trainset, testset = train_test_split(data, test_size=0.25)"
   ]
  },
  {
   "cell_type": "code",
   "execution_count": 404,
   "id": "0283ef6b-e2b9-43c2-a683-99f9e0beebd1",
   "metadata": {},
   "outputs": [],
   "source": [
    "svd = SVD()\n",
    "model = svd.fit(trainset)"
   ]
  },
  {
   "cell_type": "code",
   "execution_count": 405,
   "id": "6d34423a-ef0a-45f4-ae08-baf4f4c3b71d",
   "metadata": {},
   "outputs": [],
   "source": [
    "predictions = model.test(testset)"
   ]
  },
  {
   "cell_type": "code",
   "execution_count": 406,
   "id": "1e8cf93c-bdce-4e9b-bd88-25008228e909",
   "metadata": {},
   "outputs": [
    {
     "name": "stdout",
     "output_type": "stream",
     "text": [
      "RMSE: 0.8945\n"
     ]
    }
   ],
   "source": [
    "rmse = accuracy.rmse(predictions)"
   ]
  },
  {
   "cell_type": "code",
   "execution_count": 381,
   "id": "1eb0c646-e456-4b15-b672-504686687748",
   "metadata": {},
   "outputs": [],
   "source": [
    "params = {'n_epochs': [20, 30], 'lr_all': [0.005, 0.010],\n",
    "              'n_factors': [50, 100]}\n",
    "gs = GridSearchCV(SVD, param_grid=params, n_jobs=-2)"
   ]
  },
  {
   "cell_type": "code",
   "execution_count": 382,
   "id": "68a0720a-889c-440a-ac48-38ca46c98b8f",
   "metadata": {
    "scrolled": true
   },
   "outputs": [],
   "source": [
    "model = gs.fit(data)"
   ]
  },
  {
   "cell_type": "code",
   "execution_count": 383,
   "id": "415903d0-2833-4410-9dd7-848d729793a2",
   "metadata": {},
   "outputs": [
    {
     "name": "stdout",
     "output_type": "stream",
     "text": [
      "0.8917219689997701\n",
      "{'n_epochs': 20, 'lr_all': 0.005, 'n_factors': 50}\n"
     ]
    }
   ],
   "source": [
    "print(gs.best_score[\"rmse\"])\n",
    "print(gs.best_params[\"rmse\"])\n"
   ]
  },
  {
   "cell_type": "code",
   "execution_count": 399,
   "id": "15743e43-0087-46e4-b838-844b6823454e",
   "metadata": {},
   "outputs": [],
   "source": [
    "trainSet = data.build_full_trainset()\n",
    "svd = SVD(n_factors=50, n_epochs = 20, lr_all = 0.005)\n",
    "model = svd.fit(trainSet)"
   ]
  },
  {
   "cell_type": "code",
   "execution_count": 390,
   "id": "52979c8f-d653-4614-90aa-541446806e3a",
   "metadata": {},
   "outputs": [],
   "source": [
    "testSubject = 85"
   ]
  },
  {
   "cell_type": "code",
   "execution_count": 392,
   "id": "7234e14d-56ec-4dda-85d5-6f7506e77a40",
   "metadata": {},
   "outputs": [],
   "source": [
    "u = trainSet.to_inner_uid(testSubject)\n",
    "\n",
    "fill = trainset.global_mean\n",
    "anti_testset = []\n",
    "user_items = set([j for (j, _) in trainSet.ur[u]])\n",
    "anti_testset += [(trainSet.to_raw_uid(u), trainSet.to_raw_iid(i), fill) for\n",
    "                         i in trainSet.all_items() if\n",
    "                         i not in user_items]"
   ]
  },
  {
   "cell_type": "code",
   "execution_count": 393,
   "id": "ece260ae-dfe8-4bd1-9944-2136db93c12e",
   "metadata": {},
   "outputs": [
    {
     "name": "stdout",
     "output_type": "stream",
     "text": [
      "Star Wars: Episode V - The Empire Strikes Back (1980)\n",
      "Star Wars: Episode IV - A New Hope (1977)\n",
      "All About Eve (1950)\n",
      "Godfather, The (1972)\n",
      "Dr. Strangelove or: How I Learned to Stop Worrying and Love the Bomb (1964)\n",
      "Saving Private Ryan (1998)\n",
      "Raging Bull (1980)\n",
      "Raiders of the Lost Ark (Indiana Jones and the Raiders of the Lost Ark) (1981)\n",
      "Fight Club (1999)\n",
      "Wolf of Wall Street, The (2013)\n"
     ]
    }
   ],
   "source": [
    "testUserpredictions = svd.test(anti_testset)\n",
    "\n",
    "recommendations = []\n",
    "            \n",
    "for userID, movieID, actualRating, estimatedRating, _ in testUserpredictions:\n",
    "    intMovieID = int(movieID)\n",
    "    recommendations.append((intMovieID, estimatedRating))\n",
    "\n",
    "recommendations.sort(key=lambda x: x[1], reverse=True)\n",
    "\n",
    "for movie, rating in recommendations[:10]:\n",
    "    print(df_movieratings.loc[df_movieratings.movieId == int(movie), 'title'].iloc[0])"
   ]
  },
  {
   "cell_type": "code",
   "execution_count": 407,
   "id": "53858193-78a9-47b0-87cf-1b415a05b3e2",
   "metadata": {},
   "outputs": [
    {
     "name": "stdout",
     "output_type": "stream",
     "text": [
      "0.9054910936058463\n",
      "0.5457261417746204\n"
     ]
    }
   ],
   "source": [
    "precisions, recalls = precision_recall_at_k(predictions, k=10, threshold=3)\n",
    "\n",
    "\n",
    "# Precision and recall can then be averaged over all users\n",
    "print(sum(prec for prec in precisions.values()) / len(precisions))\n",
    "print(sum(rec for rec in recalls.values()) / len(recalls))\n"
   ]
  },
  {
   "cell_type": "markdown",
   "id": "ab9c4368-28cd-4424-a2db-b015eba6da22",
   "metadata": {},
   "source": [
    "<a id='results'></a>\n",
    "\n",
    "#### 6. Results Comparison"
   ]
  },
  {
   "cell_type": "code",
   "execution_count": 476,
   "id": "ffb5efc4-d486-4351-a7ab-7f31659aeb07",
   "metadata": {},
   "outputs": [
    {
     "name": "stderr",
     "output_type": "stream",
     "text": [
      "No artists with labels found to put in legend.  Note that artists whose label start with an underscore are ignored when legend() is called with no argument.\n"
     ]
    },
    {
     "data": {
      "image/png": "[encoded data removed]",
      "text/plain": [
       "<Figure size 800x600 with 1 Axes>"
      ]
     },
     "metadata": {},
     "output_type": "display_data"
    }
   ],
   "source": [
    "# Plot comparison of results\n",
    "\n",
    "categories = ['User based CF', 'User based CF Tuned', 'Item based CF', 'Item based CF Tuned', 'SVD', 'SVD Tuned']\n",
    "RMSE = [0.9877, 0.9720, 0.9959, 0.9514, 0.8945, 0.8917]\n",
    "plt.figure(figsize = (8,6))\n",
    "ax = sns.barplot(x=categories, y=RMSE, hue = categories)\n",
    "\n",
    "for p in ax.patches:\n",
    "    label = \"{:.4f}\".format(p.get_height())\n",
    "    x = p.get_x() + p.get_width() / 2\n",
    "    y = p.get_height()\n",
    "    ax.annotate(label, (x, y), ha=\"center\", va=\"center\", \n",
    "                size=10, xytext=(0, 5), textcoords=\"offset points\",) \n",
    "    \n",
    "plt.ylabel('RMSE')\n",
    "plt.xticks(rotation = 90)\n",
    "plt.title('RMSE comparison')\n",
    "plt.legend(bbox_to_anchor = (1.05, 1.05))\n",
    "plt.tight_layout()\n",
    "plt.show()"
   ]
  }
 ],
 "metadata": {
  "kernelspec": {
   "display_name": "Python 3 (ipykernel)",
   "language": "python",
   "name": "python3"
  },
  "language_info": {
   "codemirror_mode": {
    "name": "ipython",
    "version": 3
   },
   "file_extension": ".py",
   "mimetype": "text/x-python",
   "name": "python",
   "nbconvert_exporter": "python",
   "pygments_lexer": "ipython3",
   "version": "3.12.4"
  }
 },
 "nbformat": 4,
 "nbformat_minor": 5
}
